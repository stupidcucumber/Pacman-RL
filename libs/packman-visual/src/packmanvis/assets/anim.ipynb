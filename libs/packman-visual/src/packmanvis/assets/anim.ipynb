{
 "cells": [
  {
   "cell_type": "code",
   "execution_count": 1,
   "metadata": {},
   "outputs": [],
   "source": [
    "import pathlib\n",
    "import cv2\n",
    "\n",
    "animations_folder = pathlib.Path(\"animations\")\n",
    "sprites_image = pathlib.Path(\"NES - Ms Pac-Man Namco - General Sprites.png\")\n",
    "SPRITE_SIZE = 16\n",
    "\n",
    "\n",
    "def remove_background(sprite: cv2.Mat) -> cv2.Mat:\n",
    "    tmp = cv2.cvtColor(sprite, cv2.COLOR_BGR2GRAY)\n",
    "    _,alpha = cv2.threshold(tmp,0,255,cv2.THRESH_BINARY)\n",
    "    b, g, r = cv2.split(sprite)\n",
    "    rgba = [b,g,r, alpha]\n",
    "    return cv2.merge(rgba,4)\n",
    "\n",
    "\n",
    "def slice_into_sprites(\n",
    "    image: cv2.Mat, lu_corner: tuple[int, int], shape: tuple[int, int], out_size: int = 32\n",
    ") -> list[cv2.Mat]:\n",
    "    result = []\n",
    "    x, y = lu_corner\n",
    "    w, h = shape\n",
    "    \n",
    "    sprites = image[y:y+h, x:x+w]\n",
    "    for y_index in range(h // SPRITE_SIZE):\n",
    "        for x_index in range(w // SPRITE_SIZE):\n",
    "            sprite = sprites[\n",
    "                SPRITE_SIZE * y_index:SPRITE_SIZE * (y_index + 1),\n",
    "                SPRITE_SIZE * x_index:SPRITE_SIZE * (x_index + 1)\n",
    "            ]\n",
    "            sprite = remove_background(sprite=sprite)\n",
    "            result.append(\n",
    "                cv2.resize(\n",
    "                    sprite, dsize=(out_size, out_size)\n",
    "                )\n",
    "            )\n",
    "\n",
    "    return result"
   ]
  },
  {
   "cell_type": "code",
   "execution_count": 12,
   "metadata": {},
   "outputs": [],
   "source": [
    "sprites = slice_into_sprites(\n",
    "    image=cv2.imread(sprites_image.as_posix(), cv2.IMREAD_UNCHANGED),\n",
    "    lu_corner=(454, 451),\n",
    "    shape=(32, 48)\n",
    ")\n",
    "\n",
    "for index, sprite in enumerate(sprites):\n",
    "    cv2.imwrite(\n",
    "        (animations_folder / f\"{index}.png\").as_posix(),\n",
    "        sprite\n",
    "    )"
   ]
  },
  {
   "cell_type": "code",
   "execution_count": 9,
   "metadata": {},
   "outputs": [
    {
     "name": "stdout",
     "output_type": "stream",
     "text": [
      "s_pacman\n"
     ]
    }
   ],
   "source": [
    "pacman_sprites = pathlib.Path(\"s_pacman\")\n",
    "print(pacman_sprites)\n",
    "\n",
    "for image_path in pacman_sprites.glob(\"*.png\"):\n",
    "    image = cv2.imread(image_path.as_posix(), cv2.IMREAD_UNCHANGED)\n",
    "    sprite = remove_background(image)\n",
    "    \n",
    "    new_file = pacman_sprites / f\"{image_path.stem}_transparent.png\"\n",
    "    cv2.imwrite(new_file.as_posix(), sprite)  "
   ]
  },
  {
   "cell_type": "code",
   "execution_count": null,
   "metadata": {},
   "outputs": [],
   "source": []
  }
 ],
 "metadata": {
  "kernelspec": {
   "display_name": "env",
   "language": "python",
   "name": "python3"
  },
  "language_info": {
   "codemirror_mode": {
    "name": "ipython",
    "version": 3
   },
   "file_extension": ".py",
   "mimetype": "text/x-python",
   "name": "python",
   "nbconvert_exporter": "python",
   "pygments_lexer": "ipython3",
   "version": "3.10.13"
  }
 },
 "nbformat": 4,
 "nbformat_minor": 2
}
